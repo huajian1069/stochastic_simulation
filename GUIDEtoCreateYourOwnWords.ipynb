{
 "cells": [
  {
   "cell_type": "code",
   "execution_count": null,
   "metadata": {},
   "outputs": [],
   "source": [
    "from Project_utils import *\n",
    "\n",
    "import numpy as np\n",
    "from scipy.special import logsumexp\n",
    "\n",
    "import matplotlib.pyplot as plt\n",
    "import matplotlib.animation as animation\n",
    "import seaborn as sns\n",
    "\n",
    "import os\n",
    "import warnings\n",
    "warnings.simplefilter(\"ignore\")\n",
    "%matplotlib notebook"
   ]
  },
  {
   "cell_type": "markdown",
   "metadata": {},
   "source": [
    "<img src=\"figures/formula.png\">"
   ]
  },
  {
   "cell_type": "code",
   "execution_count": null,
   "metadata": {},
   "outputs": [],
   "source": [
    "def post_probability_HIT(x):\n",
    "    \"\"\"\n",
    "    Defines likelihood/post probability functions\n",
    "    :param x: 2D random vector\n",
    "    :return: log likelihood\n",
    "    \"\"\"\n",
    "    H_1 = -0.5 * ((x[0] + 11) ** 2) / (signoise ** 2) + np.log(0 <= x[1] < 2)\n",
    "    H_2 = -0.5 * ((x[1] - 1) ** 2) / (signoise ** 2) + np.log(-11 <= x[0] < -9)\n",
    "    H_3 = -0.5 * ((x[0] + 9) ** 2) / (signoise ** 2) + np.log(0 <= x[1] < 2)\n",
    "    I_1= -0.5 * ((x[1] - 2) ** 2) / (signoise ** 2) + np.log(-7.5 <= x[0] < -6.5)\n",
    "    I_2 = -0.5 * ((x[0] + 7) ** 2) / (signoise ** 2) + np.log(0 <= x[1] < 2)\n",
    "    I_3 = -0.5 * ((x[1]) ** 2) / (signoise ** 2) + np.log(-8 <= x[0] < -6)\n",
    "    T_1 = -0.5 * ((x[1] - 2) ** 2) / (signoise ** 2) + np.log(-5 <= x[0] < -3)\n",
    "    T_2 = -0.5 * ((x[0] + 4) ** 2) / (signoise ** 2) + np.log(0 <= x[1] < 2)\n",
    "    heart = -0.5 * ((x[1] - np.power(np.abs(x[0]),2/3) - 0.5)**2 + x[0]**2 - 1.5)**2 / (10*signoise ** 2)\n",
    "    I = -0.5 * ((x[0] - 4) ** 2) / (signoise ** 2) + np.log(0 <= x[1] < 2)\n",
    "    O1 = -0.5 * (((x[0] - 7) ** 2 + (x[1] - 1) ** 2 - 1.0) ** 2) / (signoise ** 2)\n",
    "    O2 = -0.5 * (((x[0] - 10) ** 2 + (x[1] - 1) ** 2 - 1.0) ** 2) / (signoise ** 2)\n",
    "    return logsumexp([H_1, H_2, H_3, I_1, I_2, I_3, T_1, T_2, heart, I, O1, O2])"
   ]
  },
  {
   "cell_type": "markdown",
   "metadata": {},
   "source": [
    "## verify the graphic represented by post_probability_HIT function"
   ]
  },
  {
   "cell_type": "code",
   "execution_count": null,
   "metadata": {},
   "outputs": [],
   "source": [
    "x = np.arange(-13, 13, 0.1)\n",
    "y = np.arange(3, -1, -0.1)\n",
    "xx, yy = np.meshgrid(x, y)\n",
    "val = []\n",
    "for j in y:\n",
    "    for i in x:\n",
    "        val.append(np.exp(post_probability_HIT([i,j])))\n",
    "val = np.array(val).reshape(xx.shape)"
   ]
  },
  {
   "cell_type": "code",
   "execution_count": null,
   "metadata": {},
   "outputs": [],
   "source": [
    "fig = plt.figure(figsize=(10, 7))\n",
    "ax = fig.add_subplot(1, 1, 1)\n",
    "sns.scatterplot(x=xx.ravel(), y=yy.ravel(), hue=val.ravel())\n",
    "ax.set_title(\"visualise the target probability density function(p.d.f.)\")"
   ]
  },
  {
   "cell_type": "markdown",
   "metadata": {},
   "source": [
    "## do experiment, generate the data for visualisation"
   ]
  },
  {
   "cell_type": "code",
   "execution_count": null,
   "metadata": {},
   "outputs": [],
   "source": [
    "D = 2\n",
    "K = 5\n",
    "N = 12000\n",
    "p = [lambda loc: st.multivariate_normal.rvs(mean=loc, cov=np.array([[3, 0], [0, 0.5]]))] * K\n",
    "u0 = st.uniform(loc=np.array([0, 0]), scale=np.array([11, 2])).rvs\n",
    "Ns = 1\n",
    "T_factor = 100\n",
    "# !!Here to inject your own target p.d.f. !!\n",
    "u = [lambda x, T=k: np.exp(post_probability_HIT(x) / T_factor ** T) for k in range(K)]\n",
    "experiment_control = ParallelTempering(D, K, N, p, u, u0, Ns, alpha_opt = 0.234)\n",
    "file_simplePT_name = 'data/hit100/simplePT_hit.obj'\n",
    "if not os.path.exists(os.path.dirname(file_simplePT_name)):\n",
    "    os.makedirs(os.path.dirname(file_simplePT_name))\n",
    "\n",
    "\n",
    "val = input('Enter \"y\" to read data from disk, \"n\" to regenerate data\\n')\n",
    "if val == 'n':\n",
    "    # generate data from Markov Chain\n",
    "    _, acc = experiment_control.generateMarkovChain(mode='simple PT')\n",
    "    experiment_control.save(file_simplePT_name)\n",
    "else:\n",
    "    # load data from disk\n",
    "    experiment_control.load(file_simple_name)"
   ]
  },
  {
   "cell_type": "markdown",
   "metadata": {},
   "source": [
    "## visualise generated random number(vector) by histgram and animation"
   ]
  },
  {
   "cell_type": "code",
   "execution_count": null,
   "metadata": {},
   "outputs": [],
   "source": [
    "xs = experiment_control.xs\n",
    "# plot the histograms of samples\n",
    "fig = plt.figure(figsize=(10, 5))\n",
    "ax = fig.add_subplot(1, 1, 1)\n",
    "xmin, xmax = -13, 13\n",
    "ymin, ymax = -1, 3\n",
    "h = ax.hist2d(xs[:, 0], xs[:, 1], bins=[150, 40], norm=mcolors.LogNorm(),\n",
    "                  range=[[xmin, xmax], [ymin, ymax]],  cmap='Wistia')\n",
    "plt.grid()\n",
    "plt.colorbar(h[3], ax=ax)\n",
    "plt.grid(color='grey', linestyle='-', linewidth=0.3)\n",
    "ax.set_title(\"SAMPLE multi-modal, non-liner-low-dimensional manifold \" + '\\nBY' + \" parallel tempering Markov chain Monte Carlo(MCMC) simulation\")"
   ]
  },
  {
   "cell_type": "code",
   "execution_count": null,
   "metadata": {},
   "outputs": [],
   "source": [
    "class demo_mcmc():\n",
    "    def __init__(self, xs):\n",
    "        self.xs = xs\n",
    "    def animate_moving_cluster(self):\n",
    "        def animate(i):\n",
    "            plt.clf()\n",
    "            ax = fig.add_subplot(1, 1, 1)    \n",
    "            ax.set_title('num=%d' % (i*10))\n",
    "            ax.set_xlim(-13, 13)\n",
    "            ax.set_ylim(-1, 3)\n",
    "            plt.grid(color='grey', linestyle='-', linewidth=0.3)\n",
    "            ax.scatter(x=self.xs[:(i+1)*10,0], y=self.xs[:(i+1)*10,1], color=\"r\", s=15)\n",
    "        fig = plt.figure(figsize=(8,4))\n",
    "\n",
    "        ani = animation.FuncAnimation(fig, animate, frames=int(self.xs.shape[0]/10), repeat=False, interval=1, cache_frame_data=False)\n",
    "        return ani"
   ]
  },
  {
   "cell_type": "code",
   "execution_count": null,
   "metadata": {},
   "outputs": [],
   "source": [
    "de = demo_mcmc(experiment_control.xs[2000:])\n",
    "ani = de.animate_moving_cluster()"
   ]
  },
  {
   "cell_type": "code",
   "execution_count": null,
   "metadata": {},
   "outputs": [],
   "source": [
    "Writer = animation.writers['ffmpeg']\n",
    "writer = Writer(fps=100, metadata=dict(artist='Huajian'), bitrate=9000)\n",
    "\n",
    "ani.save('../im.mp4', writer=writer)\n",
    "ani.save('../animation.gif', writer='imagemagick', fps=1250)"
   ]
  },
  {
   "cell_type": "markdown",
   "metadata": {},
   "source": [
    "## another example in exercise 3,4"
   ]
  },
  {
   "cell_type": "code",
   "execution_count": null,
   "metadata": {},
   "outputs": [],
   "source": [
    "%run -i Project_ex3"
   ]
  },
  {
   "cell_type": "code",
   "execution_count": null,
   "metadata": {},
   "outputs": [],
   "source": [
    "xs = experiment_control.xs\n",
    "# use samples after 2000th, becasue at begining the sampled distribution diverge from target distribution\n",
    "de = demo_mcmc(xs[2000:])\n",
    "ani = de.animate_moving_cluster()"
   ]
  },
  {
   "cell_type": "code",
   "execution_count": null,
   "metadata": {},
   "outputs": [],
   "source": [
    "Writer = animation.writers['ffmpeg']\n",
    "writer = Writer(fps=100, metadata=dict(artist='Huajian'), bitrate=9000)\n",
    "\n",
    "ani.save('../csqi.mp4', writer=writer)"
   ]
  }
 ],
 "metadata": {
  "kernelspec": {
   "display_name": "Python [conda env:miniconda3-ada] *",
   "language": "python",
   "name": "conda-env-miniconda3-ada-py"
  },
  "language_info": {
   "codemirror_mode": {
    "name": "ipython",
    "version": 3
   },
   "file_extension": ".py",
   "mimetype": "text/x-python",
   "name": "python",
   "nbconvert_exporter": "python",
   "pygments_lexer": "ipython3",
   "version": "3.7.4"
  }
 },
 "nbformat": 4,
 "nbformat_minor": 4
}
